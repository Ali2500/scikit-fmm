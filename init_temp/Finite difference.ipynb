{
 "cells": [
  {
   "cell_type": "code",
   "execution_count": 18,
   "metadata": {
    "collapsed": true
   },
   "outputs": [],
   "source": [
    "from sympy import Symbol, binomial, Sum, summation, Function\n",
    "from sympy.abc import i,n,x,y,z,h"
   ]
  },
  {
   "cell_type": "code",
   "execution_count": 46,
   "metadata": {
    "collapsed": false
   },
   "outputs": [
    {
     "name": "stdout",
     "output_type": "stream",
     "text": [
      "-f(x) + f(x + 1.0)\n",
      "\n",
      "f(x) - f(x - 1.0)\n"
     ]
    }
   ],
   "source": [
    "i=Symbol('i')\n",
    "f=Function('f')\n",
    "n=1\n",
    "h=1.0\n",
    "def forward(n):\n",
    "    return summation((-1)**i*binomial(n,i)*f(x+(n-i)*h),(i,0,n))\n",
    "\n",
    "def backward(n):\n",
    "    return summation((-1)**i*binomial(n,i)*f(x-i*h),(i,0,n))\n",
    "\n",
    "def central(n):\n",
    "    return summation((-1)**i*binomial(n,i)*f(x+(n/2.0-i)*h),(i,0,n))\n",
    "\n",
    "print forward(1)\n",
    "#print forward(2)\n",
    "print \n",
    "print backward(1)\n",
    "#print backward(2)\n",
    "#print\n",
    "#print central(1)\n",
    "#print central(2)"
   ]
  },
  {
   "cell_type": "code",
   "execution_count": 61,
   "metadata": {
    "collapsed": false
   },
   "outputs": [
    {
     "name": "stdout",
     "output_type": "stream",
     "text": [
      "[[0.5, 1, 0, 0], [-0.5, -1, 0, 0]]\n",
      "[[0.25, 1, 1, 0], [-0.25, -1, 1, 0], [-0.25, 1, -1, 0], [0.25, -1, -1, 0]]\n",
      "[[0.25, 1, 1, 0], [-0.25, 1, -1, 0], [-0.25, -1, 1, 0], [0.25, -1, -1, 0]]\n"
     ]
    }
   ],
   "source": [
    "\n",
    "def xcentral(terms):\n",
    "    ret = []\n",
    "    for m,i,j,k in terms:\n",
    "        ret.append([0.5*m,i+1,j,k])\n",
    "        ret.append([-0.5*m,i-1,j,k])\n",
    "    return ret\n",
    "def ycentral(terms):\n",
    "    ret = []\n",
    "    for m,i,j,k in terms:\n",
    "        ret.append([0.5*m,i,j+1,k])\n",
    "        ret.append([-0.5*m,i,j-1,k])\n",
    "    return ret\n",
    "def zcentral(terms):\n",
    "    ret = []\n",
    "    for m,i,j,k in terms:\n",
    "        ret.append([0.5*m,i,j,k+1])\n",
    "        ret.append([-0.5*m,i,j,k-1])\n",
    "    return ret\n",
    "\n",
    "def xup(terms):\n",
    "    ret = []\n",
    "    for m,i,j,k in terms:\n",
    "        ret.append([m,i+1,j,k])\n",
    "        ret.append([-1*m,i,j,k])\n",
    "    return ret\n",
    "def yup(terms):\n",
    "    ret = []\n",
    "    for m,i,j,k in terms:\n",
    "        ret.append([m,i,j+1,k])\n",
    "        ret.append([-1*m,i,j,k])\n",
    "    return ret\n",
    "def zup(terms):\n",
    "    ret = []\n",
    "    for m,i,j,k in terms:\n",
    "        ret.append([m,i,j,k+1])\n",
    "        ret.append([-1*m,i,j,k])\n",
    "    return ret\n",
    "\n",
    "def xdown(terms):\n",
    "    ret = []\n",
    "    for m,i,j,k in terms:\n",
    "        ret.append([m,i,j,k])\n",
    "        ret.append([-1*m,i-1,j,k])\n",
    "    return ret\n",
    "def ydown(terms):\n",
    "    ret = []\n",
    "    for m,i,j,k in terms:\n",
    "        ret.append([m,i,j,k])\n",
    "        ret.append([-1*m,i,j-1,k])\n",
    "    return ret\n",
    "def zdown(terms):\n",
    "    ret = []\n",
    "    for m,i,j,k in terms:\n",
    "        ret.append([m,i,j,k])\n",
    "        ret.append([-1*m,i,j,k-1])\n",
    "    return ret\n",
    "\n",
    "\n",
    "\n",
    "start_term = ([1,0,0,0],)\n",
    "print xcentral(start_term)\n",
    "print xcentral(ycentral(start_term))\n",
    "print ycentral(xcentral(start_term))\n",
    "#assert set(ycentral(xcentral(start_term))) == set(xcentral(ycentral(start_term)))"
   ]
  },
  {
   "cell_type": "code",
   "execution_count": 77,
   "metadata": {
    "collapsed": false
   },
   "outputs": [],
   "source": [
    "#f,yf = \n",
    "def cross_derivatives(xf,yf):\n",
    "    ii=0\n",
    "    for xx in xf:\n",
    "        for yy in yf:\n",
    "            v = xx(yy(start_term))\n",
    "            m=v[0][0]\n",
    "            for term in v:\n",
    "                assert abs(term[0]) == abs(m)\n",
    "                term[0]/=m\n",
    "            sterm = \"return {}*({})\".format(m,\"+\".join([\"{}*f({},{},{})\".format(s,i,j,k) for s,i,j,k in v ]))\n",
    "            sterm = sterm.replace(\"+-\",\"-\")\n",
    "            sterm = sterm.replace(\"1*\",\"\")\n",
    "            sterm = sterm.replace(\"1.0*\",\"\")                \n",
    "            print r\"if case == {}: {}\".format(ii,sterm)\n",
    "            ii+=1"
   ]
  },
  {
   "cell_type": "code",
   "execution_count": 78,
   "metadata": {
    "collapsed": false
   },
   "outputs": [
    {
     "name": "stdout",
     "output_type": "stream",
     "text": [
      "if case == 0: return 0.25*(f(1,1,0)-f(-1,1,0)-f(1,-1,0)+f(-1,-1,0))\n",
      "if case == 1: return 0.5*(f(1,0,0)-f(-1,0,0)-f(1,-1,0)+f(-1,-1,0))\n",
      "if case == 2: return 0.5*(f(1,1,0)-f(-1,1,0)-f(1,0,0)+f(-1,0,0))\n",
      "if case == 3: return 0.5*(f(0,1,0)-f(-1,1,0)-f(0,-1,0)+f(-1,-1,0))\n",
      "if case == 4: return (f(0,0,0)-f(-1,0,0)-f(0,-1,0)+f(-1,-1,0))\n",
      "if case == 5: return (f(0,1,0)-f(-1,1,0)-f(0,0,0)+f(-1,0,0))\n",
      "if case == 6: return 0.5*(f(1,1,0)-f(0,1,0)-f(1,-1,0)+f(0,-1,0))\n",
      "if case == 7: return (f(1,0,0)-f(0,0,0)-f(1,-1,0)+f(0,-1,0))\n",
      "if case == 8: return (f(1,1,0)-f(0,1,0)-f(1,0,0)+f(0,0,0))\n"
     ]
    }
   ],
   "source": [
    "cross_derivatives((xcentral,xdown,xup), (ycentral,ydown,yup))"
   ]
  },
  {
   "cell_type": "code",
   "execution_count": 79,
   "metadata": {
    "collapsed": false
   },
   "outputs": [
    {
     "name": "stdout",
     "output_type": "stream",
     "text": [
      "if case == 0: return 0.25*(f(1,0,1)-f(-1,0,1)-f(1,0,-1)+f(-1,0,-1))\n",
      "if case == 1: return 0.5*(f(1,0,0)-f(-1,0,0)-f(1,0,-1)+f(-1,0,-1))\n",
      "if case == 2: return 0.5*(f(1,0,1)-f(-1,0,1)-f(1,0,0)+f(-1,0,0))\n",
      "if case == 3: return 0.5*(f(0,0,1)-f(-1,0,1)-f(0,0,-1)+f(-1,0,-1))\n",
      "if case == 4: return (f(0,0,0)-f(-1,0,0)-f(0,0,-1)+f(-1,0,-1))\n",
      "if case == 5: return (f(0,0,1)-f(-1,0,1)-f(0,0,0)+f(-1,0,0))\n",
      "if case == 6: return 0.5*(f(1,0,1)-f(0,0,1)-f(1,0,-1)+f(0,0,-1))\n",
      "if case == 7: return (f(1,0,0)-f(0,0,0)-f(1,0,-1)+f(0,0,-1))\n",
      "if case == 8: return (f(1,0,1)-f(0,0,1)-f(1,0,0)+f(0,0,0))\n"
     ]
    }
   ],
   "source": [
    "cross_derivatives((xcentral,xdown,xup), (zcentral,zdown,zup))"
   ]
  },
  {
   "cell_type": "code",
   "execution_count": 80,
   "metadata": {
    "collapsed": false
   },
   "outputs": [
    {
     "name": "stdout",
     "output_type": "stream",
     "text": [
      "if case == 0: return 0.25*(f(0,1,1)-f(0,-1,1)-f(0,1,-1)+f(0,-1,-1))\n",
      "if case == 1: return 0.5*(f(0,1,0)-f(0,-1,0)-f(0,1,-1)+f(0,-1,-1))\n",
      "if case == 2: return 0.5*(f(0,1,1)-f(0,-1,1)-f(0,1,0)+f(0,-1,0))\n",
      "if case == 3: return 0.5*(f(0,0,1)-f(0,-1,1)-f(0,0,-1)+f(0,-1,-1))\n",
      "if case == 4: return (f(0,0,0)-f(0,-1,0)-f(0,0,-1)+f(0,-1,-1))\n",
      "if case == 5: return (f(0,0,1)-f(0,-1,1)-f(0,0,0)+f(0,-1,0))\n",
      "if case == 6: return 0.5*(f(0,1,1)-f(0,0,1)-f(0,1,-1)+f(0,0,-1))\n",
      "if case == 7: return (f(0,1,0)-f(0,0,0)-f(0,1,-1)+f(0,0,-1))\n",
      "if case == 8: return (f(0,1,1)-f(0,0,1)-f(0,1,0)+f(0,0,0))\n"
     ]
    }
   ],
   "source": [
    "cross_derivatives((ycentral,ydown,yup), (zcentral,zdown,zup))"
   ]
  },
  {
   "cell_type": "code",
   "execution_count": 81,
   "metadata": {
    "collapsed": false
   },
   "outputs": [
    {
     "name": "stdout",
     "output_type": "stream",
     "text": [
      "if case == 0: return 0.125*(f(1,1,1)-f(-1,1,1)-f(1,-1,1)+f(-1,-1,1)-f(1,1,-1)+f(-1,1,-1)+f(1,-1,-1)-f(-1,-1,-1))\n",
      "if case == 1: return 0.25*(f(1,1,0)-f(-1,1,0)-f(1,-1,0)+f(-1,-1,0)-f(1,1,-1)+f(-1,1,-1)+f(1,-1,-1)-f(-1,-1,-1))\n",
      "if case == 2: return 0.25*(f(1,1,1)-f(-1,1,1)-f(1,-1,1)+f(-1,-1,1)-f(1,1,0)+f(-1,1,0)+f(1,-1,0)-f(-1,-1,0))\n",
      "if case == 3: return 0.25*(f(1,0,1)-f(-1,0,1)-f(1,-1,1)+f(-1,-1,1)-f(1,0,-1)+f(-1,0,-1)+f(1,-1,-1)-f(-1,-1,-1))\n",
      "if case == 4: return 0.5*(f(1,0,0)-f(-1,0,0)-f(1,-1,0)+f(-1,-1,0)-f(1,0,-1)+f(-1,0,-1)+f(1,-1,-1)-f(-1,-1,-1))\n",
      "if case == 5: return 0.5*(f(1,0,1)-f(-1,0,1)-f(1,-1,1)+f(-1,-1,1)-f(1,0,0)+f(-1,0,0)+f(1,-1,0)-f(-1,-1,0))\n",
      "if case == 6: return 0.25*(f(1,1,1)-f(-1,1,1)-f(1,0,1)+f(-1,0,1)-f(1,1,-1)+f(-1,1,-1)+f(1,0,-1)-f(-1,0,-1))\n",
      "if case == 7: return 0.5*(f(1,1,0)-f(-1,1,0)-f(1,0,0)+f(-1,0,0)-f(1,1,-1)+f(-1,1,-1)+f(1,0,-1)-f(-1,0,-1))\n",
      "if case == 8: return 0.5*(f(1,1,1)-f(-1,1,1)-f(1,0,1)+f(-1,0,1)-f(1,1,0)+f(-1,1,0)+f(1,0,0)-f(-1,0,0))\n",
      "if case == 9: return 0.25*(f(0,1,1)-f(-1,1,1)-f(0,-1,1)+f(-1,-1,1)-f(0,1,-1)+f(-1,1,-1)+f(0,-1,-1)-f(-1,-1,-1))\n",
      "if case == 10: return 0.5*(f(0,1,0)-f(-1,1,0)-f(0,-1,0)+f(-1,-1,0)-f(0,1,-1)+f(-1,1,-1)+f(0,-1,-1)-f(-1,-1,-1))\n",
      "if case == 11: return 0.5*(f(0,1,1)-f(-1,1,1)-f(0,-1,1)+f(-1,-1,1)-f(0,1,0)+f(-1,1,0)+f(0,-1,0)-f(-1,-1,0))\n",
      "if case == 12: return 0.5*(f(0,0,1)-f(-1,0,1)-f(0,-1,1)+f(-1,-1,1)-f(0,0,-1)+f(-1,0,-1)+f(0,-1,-1)-f(-1,-1,-1))\n",
      "if case == 13: return (f(0,0,0)-f(-1,0,0)-f(0,-1,0)+f(-1,-1,0)-f(0,0,-1)+f(-1,0,-1)+f(0,-1,-1)-f(-1,-1,-1))\n",
      "if case == 14: return (f(0,0,1)-f(-1,0,1)-f(0,-1,1)+f(-1,-1,1)-f(0,0,0)+f(-1,0,0)+f(0,-1,0)-f(-1,-1,0))\n",
      "if case == 15: return 0.5*(f(0,1,1)-f(-1,1,1)-f(0,0,1)+f(-1,0,1)-f(0,1,-1)+f(-1,1,-1)+f(0,0,-1)-f(-1,0,-1))\n",
      "if case == 16: return (f(0,1,0)-f(-1,1,0)-f(0,0,0)+f(-1,0,0)-f(0,1,-1)+f(-1,1,-1)+f(0,0,-1)-f(-1,0,-1))\n",
      "if case == 17: return (f(0,1,1)-f(-1,1,1)-f(0,0,1)+f(-1,0,1)-f(0,1,0)+f(-1,1,0)+f(0,0,0)-f(-1,0,0))\n",
      "if case == 18: return 0.25*(f(1,1,1)-f(0,1,1)-f(1,-1,1)+f(0,-1,1)-f(1,1,-1)+f(0,1,-1)+f(1,-1,-1)-f(0,-1,-1))\n",
      "if case == 19: return 0.5*(f(1,1,0)-f(0,1,0)-f(1,-1,0)+f(0,-1,0)-f(1,1,-1)+f(0,1,-1)+f(1,-1,-1)-f(0,-1,-1))\n",
      "if case == 20: return 0.5*(f(1,1,1)-f(0,1,1)-f(1,-1,1)+f(0,-1,1)-f(1,1,0)+f(0,1,0)+f(1,-1,0)-f(0,-1,0))\n",
      "if case == 21: return 0.5*(f(1,0,1)-f(0,0,1)-f(1,-1,1)+f(0,-1,1)-f(1,0,-1)+f(0,0,-1)+f(1,-1,-1)-f(0,-1,-1))\n",
      "if case == 22: return (f(1,0,0)-f(0,0,0)-f(1,-1,0)+f(0,-1,0)-f(1,0,-1)+f(0,0,-1)+f(1,-1,-1)-f(0,-1,-1))\n",
      "if case == 23: return (f(1,0,1)-f(0,0,1)-f(1,-1,1)+f(0,-1,1)-f(1,0,0)+f(0,0,0)+f(1,-1,0)-f(0,-1,0))\n",
      "if case == 24: return 0.5*(f(1,1,1)-f(0,1,1)-f(1,0,1)+f(0,0,1)-f(1,1,-1)+f(0,1,-1)+f(1,0,-1)-f(0,0,-1))\n",
      "if case == 25: return (f(1,1,0)-f(0,1,0)-f(1,0,0)+f(0,0,0)-f(1,1,-1)+f(0,1,-1)+f(1,0,-1)-f(0,0,-1))\n",
      "if case == 26: return (f(1,1,1)-f(0,1,1)-f(1,0,1)+f(0,0,1)-f(1,1,0)+f(0,1,0)+f(1,0,0)-f(0,0,0))\n"
     ]
    }
   ],
   "source": [
    "xf,yf,zf=(xcentral,xdown,xup),(ycentral,ydown,yup), (zcentral,zdown,zup)\n",
    "ii=0\n",
    "for xx in xf:\n",
    "    for yy in yf:\n",
    "        for zz in zf:\n",
    "            v = xx(yy(zz(start_term)))\n",
    "            m=v[0][0]\n",
    "            for term in v:\n",
    "                assert abs(term[0]) == abs(m)\n",
    "                term[0]/=m\n",
    "            sterm = \"return {}*({})\".format(m,\"+\".join([\"{}*f({},{},{})\".format(s,i,j,k) for s,i,j,k in v ]))\n",
    "            sterm = sterm.replace(\"+-\",\"-\")\n",
    "            sterm = sterm.replace(\"1*\",\"\")\n",
    "            sterm = sterm.replace(\"1.0*\",\"\")                \n",
    "            print r\"if case == {}: {}\".format(ii,sterm)\n",
    "            ii+=1"
   ]
  },
  {
   "cell_type": "code",
   "execution_count": null,
   "metadata": {
    "collapsed": true
   },
   "outputs": [],
   "source": []
  }
 ],
 "metadata": {
  "kernelspec": {
   "display_name": "Python 2",
   "language": "python",
   "name": "python2"
  },
  "language_info": {
   "codemirror_mode": {
    "name": "ipython",
    "version": 2
   },
   "file_extension": ".py",
   "mimetype": "text/x-python",
   "name": "python",
   "nbconvert_exporter": "python",
   "pygments_lexer": "ipython2",
   "version": "2.7.10"
  }
 },
 "nbformat": 4,
 "nbformat_minor": 0
}
